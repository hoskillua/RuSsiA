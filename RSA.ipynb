{
 "cells": [
  {
   "cell_type": "code",
   "execution_count": 2,
   "metadata": {},
   "outputs": [
    {
     "data": {
      "text/plain": [
       "0"
      ]
     },
     "execution_count": 2,
     "metadata": {},
     "output_type": "execute_result"
    }
   ],
   "source": [
    "import numpy as np\n",
    "import sys\n",
    "import threading\n",
    "import random\n",
    "import math\n",
    "import time\n",
    "import matplotlib.pyplot as plt\n",
    "\n",
    "sys.setrecursionlimit(10**7)\n",
    "threading.stack_size(2**27)"
   ]
  },
  {
   "cell_type": "code",
   "execution_count": 3,
   "metadata": {},
   "outputs": [],
   "source": [
    "def ConvertToInt(message_str):\n",
    "    res = 0\n",
    "    for i in range(len(message_str)):\n",
    "        res = res * 256 + ord(message_str[i])\n",
    "    return res\n",
    "\n",
    "\n",
    "def ConvertToStr(n):\n",
    "    res = \"\"\n",
    "    while n > 0:\n",
    "        res += chr(n % 256)\n",
    "        n //= 256\n",
    "    return res[::-1]"
   ]
  },
  {
   "cell_type": "code",
   "execution_count": 4,
   "metadata": {},
   "outputs": [],
   "source": [
    "def GCD(a, b):\n",
    "    if b == 0:\n",
    "        return a\n",
    "    return GCD(b, a % b)\n",
    "\n",
    "\n",
    "def ExtendedEuclid(a, b):\n",
    "    if b == 0:\n",
    "        return (1, 0)\n",
    "    (x, y) = ExtendedEuclid(b, a % b)\n",
    "    k = a // b\n",
    "    return (y, x - k * y)\n",
    "\n",
    "def PowMod(a, n, mod):\n",
    "    if n == 0:\n",
    "        return 1 % mod\n",
    "    elif n == 1:\n",
    "        return a % mod\n",
    "    else:\n",
    "        b = PowMod(a, n // 2, mod)\n",
    "        b = b * b % mod\n",
    "        if n % 2 == 0:\n",
    "            return b\n",
    "        else:\n",
    "            return b * a % mod\n",
    "\n",
    "\n",
    "def InvertModulo(a, n):\n",
    "    (b, x) = ExtendedEuclid(a, n)\n",
    "    if b < 0:\n",
    "        b = (b % n + n) % n\n",
    "    return b"
   ]
  },
  {
   "cell_type": "code",
   "execution_count": 5,
   "metadata": {},
   "outputs": [],
   "source": [
    "def IsPrime(p, k = 30):\n",
    "    # Miller–Rabin test\n",
    "    if p == 2:\n",
    "        return True\n",
    "    if p % 2 == 0:\n",
    "        return False\n",
    "    r = 0\n",
    "    d = p - 1\n",
    "    while d % 2 == 0:\n",
    "        r += 1\n",
    "        d //= 2\n",
    "    for _ in range(k):\n",
    "        a = random.randint(2, p - 1)\n",
    "        x = PowMod(a, d, p)\n",
    "        if x == 1 or x == p - 1:\n",
    "            continue\n",
    "        for _ in range(r - 1):\n",
    "            x = PowMod(x, 2, p)\n",
    "            if x == p - 1:\n",
    "                break\n",
    "        else:\n",
    "            return False\n",
    "    return True\n",
    "\n",
    "def GeneratePrime(bits):\n",
    "    p = random.randint(2**(bits - 1), 2**bits)\n",
    "    while not IsPrime(p):\n",
    "        p = random.randint(2**(bits - 1), 2**bits)\n",
    "    return p\n"
   ]
  },
  {
   "cell_type": "code",
   "execution_count": 6,
   "metadata": {},
   "outputs": [],
   "source": [
    "class RSA:\n",
    "  def __init__(self, p = 0, q = 0, e = 0, nBits = 128):\n",
    "    self.p = p\n",
    "    self.q = q\n",
    "    self.e = e\n",
    "    self.nBits = nBits\n",
    "    if self.p == 0 or self.q == 0 or not IsPrime(self.p) or not IsPrime(self.q):\n",
    "        self.p = GeneratePrime(nBits//2 + nBits % 2)\n",
    "        self.q = GeneratePrime(nBits//2)\n",
    "        self.e = 0\n",
    "    else:\n",
    "        self.nBits = math.ceil(math.log2(self.p * self.q))\n",
    "\n",
    "    phi = (self.p - 1) * (self.q - 1)\n",
    "\n",
    "    if GCD(self.e, phi) != 1 or self.e < 2 or self.e > phi-1:\n",
    "        self.e = random.randint(2, phi - 1)\n",
    "        while GCD(self.e, phi) != 1:\n",
    "            self.e = random.randint(2, phi - 1)\n",
    "\n",
    "  def Encrypt(self, m):\n",
    "    n = self.p * self.q\n",
    "    strN = ConvertToStr(n)\n",
    "    chunks, chunk_size = len(m), max(len(strN) - 1, 1)\n",
    "    m = [m[i:i+chunk_size] for i in range(0, chunks, chunk_size)]\n",
    "    c = []\n",
    "    for mi in m:\n",
    "        IntM = ConvertToInt(mi)\n",
    "        IntC = PowMod(IntM, self.e, n)\n",
    "        c.append(ConvertToStr(IntC))\n",
    "    return c\n",
    "\n",
    "  def Decrypt(self, c):\n",
    "      m = []\n",
    "      T = (self.p-1)*(self.q-1)\n",
    "      (d, y) = ExtendedEuclid(self.e, T)\n",
    "      while d < 0:\n",
    "          d += T\n",
    "      for ci in c:\n",
    "          IntC = ConvertToInt(ci)\n",
    "          IntM = PowMod(IntC, d, self.p * self.q)\n",
    "          m.append(ConvertToStr(IntM))\n",
    "      return ''.join(m)"
   ]
  },
  {
   "cell_type": "code",
   "execution_count": 8,
   "metadata": {},
   "outputs": [
    {
     "data": {
      "text/plain": [
       "[<matplotlib.lines.Line2D at 0x1bd52844310>]"
      ]
     },
     "execution_count": 8,
     "metadata": {},
     "output_type": "execute_result"
    },
    {
     "data": {
      "image/png": "[encoded data removed]",
      "text/plain": [
       "<Figure size 432x288 with 1 Axes>"
      ]
     },
     "metadata": {
      "needs_background": "light"
     },
     "output_type": "display_data"
    }
   ],
   "source": [
    "# p = 101\n",
    "# q = 103\n",
    "# rsa = RSA(e=5, p=p, q=q)\n",
    "# ciphertext = rsa.Encrypt(\"attacknowmanmotherfuckerloserqwertyuiopasdfghjklzxcvbnm\")\n",
    "# message = rsa.Decrypt(ciphertext)\n",
    "#print(message)\n",
    "x = []\n",
    "y = []\n",
    "for i in range(20, 2000, 5):\n",
    "    rsa = RSA(nBits=i)\n",
    "    start = time.time()\n",
    "    ciphertext = rsa.Encrypt(\"attacknowmanmotherfuckerloserqwertyuiopasdfghjklzxcvbnm\")\n",
    "    end = time.time()\n",
    "    #print(rsa.Decrypt(ciphertext))\n",
    "    x.append(i)\n",
    "    y.append(end-start)\n",
    "\n",
    "plt.plot(x, y)\n",
    "\n"
   ]
  }
 ],
 "metadata": {
  "interpreter": {
   "hash": "369f2c481f4da34e4445cda3fffd2e751bd1c4d706f27375911949ba6bb62e1c"
  },
  "kernelspec": {
   "display_name": "Python 3.10.0 64-bit",
   "language": "python",
   "name": "python3"
  },
  "language_info": {
   "codemirror_mode": {
    "name": "ipython",
    "version": 3
   },
   "file_extension": ".py",
   "mimetype": "text/x-python",
   "name": "python",
   "nbconvert_exporter": "python",
   "pygments_lexer": "ipython3",
   "version": "3.10.0"
  },
  "orig_nbformat": 4
 },
 "nbformat": 4,
 "nbformat_minor": 2
}
